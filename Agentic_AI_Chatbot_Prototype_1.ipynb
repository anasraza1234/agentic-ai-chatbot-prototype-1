{
  "cells": [
    {
      "cell_type": "markdown",
      "metadata": {
        "id": "view-in-github",
        "colab_type": "text"
      },
      "source": [
        "<a href=\"https://colab.research.google.com/github/anasraza1234/agentic-ai-chatbot-prototype-1/blob/main/Agentic_AI_Chatbot_Prototype_1.ipynb\" target=\"_parent\"><img src=\"https://colab.research.google.com/assets/colab-badge.svg\" alt=\"Open In Colab\"/></a>"
      ]
    },
    {
      "cell_type": "markdown",
      "metadata": {
        "id": "Z1mqFHi6Ulgi"
      },
      "source": [
        "# Objective:\n",
        "\n",
        "Create a chatbot prototype that talks to users, remembers what they say during conversation, and helps them solve problems.\n",
        "\n",
        "## Project Requirements:\n",
        "\n",
        "- ***Choose Your Niche:*** Pick a specific group of people or industry to help with your chatbot (e.g., students, healthcare, customer service).\n",
        "\n",
        "- ***Make Smart Conversations:*** Make sure the chatbot answers correctly and understands what users want. Use Prompt Engineering.\n",
        "\n",
        "- ***Add Useful Tools:*** Give the chatbot features like helping users submit complaints, giving outfit ideas, or making study plans.\n",
        "\n",
        "- ***Short-Term Memory:*** Make the chatbot remember the current conversation to give better answers.\n",
        "\n",
        "- ***Use Google Colab:*** Build and test your chatbot using this platform.\n",
        "\n",
        "## Deliverables:\n",
        "\n",
        "- A working chatbot prototype - Google Collab Link.\n",
        "\n",
        "- A list of tools and examples of how the chatbot can help people."
      ]
    },
    {
      "cell_type": "markdown",
      "metadata": {
        "id": "0dWmVMazXHRL"
      },
      "source": [
        "# Setup\n",
        "\n",
        "- First, install the required packages:"
      ]
    },
    {
      "cell_type": "code",
      "execution_count": 1,
      "metadata": {
        "id": "ZolSHSCfU6JX"
      },
      "outputs": [],
      "source": [
        "%%capture --no-stderr\n",
        "%pip install -U langgraph langsmith langchain_google_genai"
      ]
    },
    {
      "cell_type": "markdown",
      "metadata": {
        "id": "aXeoiR-iYB39"
      },
      "source": [
        "- Next, set your API keys:"
      ]
    },
    {
      "cell_type": "code",
      "source": [
        "import os\n",
        "from google.colab import userdata\n",
        "\n",
        "GOOGLE_API_KEY = userdata.get('GOOGLE_API_KEY')"
      ],
      "metadata": {
        "id": "WQr2W5_KtJRl"
      },
      "execution_count": 2,
      "outputs": []
    },
    {
      "cell_type": "markdown",
      "metadata": {
        "id": "VSAnp_DPYTe2"
      },
      "source": [
        "- Setting up LLM model"
      ]
    },
    {
      "cell_type": "code",
      "execution_count": 3,
      "metadata": {
        "colab": {
          "base_uri": "https://localhost:8080/"
        },
        "id": "UNalyuqtYfqp",
        "outputId": "186fe7a7-4607-41a0-eff9-4471b9c12582"
      },
      "outputs": [
        {
          "output_type": "execute_result",
          "data": {
            "text/plain": [
              "AIMessage(content='Hi there! How can I help you today?\\n', additional_kwargs={}, response_metadata={'prompt_feedback': {'block_reason': 0, 'safety_ratings': []}, 'finish_reason': 'STOP', 'safety_ratings': []}, id='run-d6270eb7-0104-4909-be8e-1e6a659bd112-0', usage_metadata={'input_tokens': 2, 'output_tokens': 11, 'total_tokens': 13, 'input_token_details': {'cache_read': 0}})"
            ]
          },
          "metadata": {},
          "execution_count": 3
        }
      ],
      "source": [
        "from langchain_google_genai import ChatGoogleGenerativeAI\n",
        "\n",
        "llm = ChatGoogleGenerativeAI(\n",
        "    model=\"gemini-1.5-flash\",\n",
        "    max_retries=2,\n",
        "    api_key=GOOGLE_API_KEY\n",
        ")\n",
        "\n",
        "llm.invoke(\"hi\")"
      ]
    },
    {
      "cell_type": "markdown",
      "metadata": {
        "id": "YS7jhNUIPuJb"
      },
      "source": [
        "- Now, creating a chatbot for the students of computer science, which have useful tools and shot-term memory."
      ]
    },
    {
      "cell_type": "code",
      "execution_count": 4,
      "metadata": {
        "id": "IcUx9lEuUA7I"
      },
      "outputs": [],
      "source": [
        "from typing import Annotated\n",
        "from typing_extensions import TypedDict\n",
        "from langgraph.graph import StateGraph, START, END\n",
        "from langgraph.graph.message import add_messages\n",
        "from langchain_google_genai import ChatGoogleGenerativeAI\n",
        "from langgraph.graph import MessagesState\n",
        "from langchain_core.messages import AIMessage, HumanMessage, SystemMessage\n",
        "\n",
        "\n",
        "# Memory for short-term conversation\n",
        "conversation_memory = {}\n",
        "\n",
        "def remember_user_input(key, value):\n",
        "    \"\"\"Stores user input in conversation memory.\"\"\"\n",
        "    conversation_memory[key] = value\n",
        "\n",
        "\n",
        "# State definition\n",
        "class State(TypedDict):\n",
        "    messages: Annotated[list, add_messages]\n",
        "\n",
        "# Initialize StateGraph\n",
        "graph_builder = StateGraph(State)\n",
        "\n",
        "\n",
        "# Tools\n",
        "\n",
        "def healthcare_code_explainer(code_snippet: str) -> str:\n",
        "    \"\"\"Explains the given healthcare-related code snippet in simple terms.\"\"\"\n",
        "    prompt = f\"Explain the following healthcare-related code in simple terms:\\n\\n{code_snippet}\"\n",
        "    return llm.invoke(prompt)\n",
        "\n",
        "def generate_healthcare_cheat_sheet(topic: str) -> str:\n",
        "    \"\"\"Generates a cheat sheet for a given healthcare topic.\"\"\"\n",
        "    prompt = f\"Create a detailed cheat sheet for the healthcare topic: {topic}. Include key points and examples.\"\n",
        "    return llm.invoke(prompt)\n",
        "\n",
        "def healthcare_todo_list(tasks: str) -> str:\n",
        "    \"\"\"Organizes healthcare tasks into a smart to-do list.\"\"\"\n",
        "    prompt = f\"Organize the following healthcare tasks into a prioritized to-do list with deadlines:\\n{tasks}\"\n",
        "    return llm.invoke(prompt)\n",
        "\n",
        "def healthcare_interview_preparation(question: str) -> str:\n",
        "    \"\"\"Provides detailed interview preparation for healthcare roles.\"\"\"\n",
        "    prompt = f\"Provide a list of common healthcare interview questions and some tips for preparing for an interview:\\n{question}\"\n",
        "    return llm.invoke(prompt)\n",
        "\n",
        "\n",
        "\n",
        "\n",
        "# Combine all tools\n",
        "tools = [healthcare_code_explainer,  generate_healthcare_cheat_sheet, healthcare_todo_list, healthcare_interview_preparation]\n",
        "\n",
        "# Initialize LLM\n",
        "llm = ChatGoogleGenerativeAI(\n",
        "    model=\"gemini-1.5-flash\",\n",
        "    max_retries=2,\n",
        "    api_key=GOOGLE_API_KEY\n",
        ")\n",
        "llm_with_tools = llm.bind_tools(tools)\n",
        "\n",
        "\n",
        "# System message\n",
        "sys_msg = SystemMessage(content=\"You are a helpful assistant for healthcare issues.\")\n",
        "\n",
        "\n",
        "# Node\n",
        "def assistant(state: MessagesState) -> MessagesState:\n",
        "    # Extract the last user message\n",
        "    last_message = state[\"messages\"][-1] if state[\"messages\"] else None\n",
        "\n",
        "    # Check if the last message is a HumanMessage\n",
        "    if isinstance(last_message, HumanMessage):\n",
        "        # Remember the user input\n",
        "        remember_user_input(\"last_user_input\", last_message.content)\n",
        "\n",
        "    # Prepare the response with memory context\n",
        "    memory_context = \"\"\n",
        "    if \"last_user_input\" in conversation_memory:\n",
        "        memory_context = f\"Previously, you mentioned: {conversation_memory['last_user_input']}\\n\"\n",
        "\n",
        "    # Invoke the LLM with the system message, memory context, and current messages\n",
        "    response = llm_with_tools.invoke([sys_msg, memory_context] + state[\"messages\"])\n",
        "\n",
        "    return {\"messages\": [response]}\n"
      ]
    },
    {
      "cell_type": "code",
      "execution_count": 5,
      "metadata": {
        "colab": {
          "base_uri": "https://localhost:8080/",
          "height": 266
        },
        "id": "_bKQsCBCVQpS",
        "outputId": "cf313664-68a9-4f9f-ef40-1e3c3ac851ad"
      },
      "outputs": [
        {
          "output_type": "display_data",
          "data": {
            "image/png": "[encoded data removed]",
            "text/plain": [
              "<IPython.core.display.Image object>"
            ]
          },
          "metadata": {}
        }
      ],
      "source": [
        "from langgraph.graph import START, StateGraph\n",
        "from langgraph.prebuilt import tools_condition\n",
        "from langgraph.prebuilt import ToolNode\n",
        "from IPython.display import Image, display\n",
        "from langgraph.graph.state import CompiledStateGraph\n",
        "\n",
        "# Graph\n",
        "builder: StateGraph = StateGraph(MessagesState)\n",
        "\n",
        "# Define nodes\n",
        "builder.add_node(\"assistant\", assistant)\n",
        "builder.add_node(\"tools\", ToolNode(tools))\n",
        "\n",
        "# Define edges\n",
        "builder.add_edge(START, \"assistant\")\n",
        "builder.add_conditional_edges(\n",
        "    \"assistant\",\n",
        "    tools_condition,\n",
        ")\n",
        "builder.add_edge(\"tools\", \"assistant\")\n",
        "react_graph: CompiledStateGraph = builder.compile()\n",
        "\n",
        "# Show\n",
        "display(Image(react_graph.get_graph(xray=True).draw_mermaid_png()))"
      ]
    },
    {
      "cell_type": "markdown",
      "metadata": {
        "id": "Lc84LQvd0FgJ"
      },
      "source": [
        "- **Explains code snippets in simple terms, making it easier for people to understand their health issues.**"
      ]
    },
    {
      "cell_type": "code",
      "execution_count": 6,
      "metadata": {
        "id": "aLhiQFmEXi_s"
      },
      "outputs": [],
      "source": [
        "messages = [HumanMessage(content=\"Can you suggest about my health issues\")]\n",
        "messages = react_graph.invoke({\"messages\": messages})"
      ]
    },
    {
      "cell_type": "code",
      "execution_count": 7,
      "metadata": {
        "colab": {
          "base_uri": "https://localhost:8080/"
        },
        "id": "S4qfGP95XnO9",
        "outputId": "23175992-91c5-4f09-8f3b-23d1358c8058"
      },
      "outputs": [
        {
          "output_type": "stream",
          "name": "stdout",
          "text": [
            "================================\u001b[1m Human Message \u001b[0m=================================\n",
            "\n",
            "Can you suggest about my health issues\n",
            "==================================\u001b[1m Ai Message \u001b[0m==================================\n",
            "\n",
            "I cannot provide specific medical advice or diagnoses.  To get help with your health issues, please consult a doctor or other qualified healthcare professional.  They can properly assess your situation and provide appropriate recommendations.\n"
          ]
        }
      ],
      "source": [
        "for m in messages['messages']:\n",
        "    m.pretty_print()"
      ]
    },
    {
      "cell_type": "code",
      "execution_count": 8,
      "metadata": {
        "colab": {
          "base_uri": "https://localhost:8080/"
        },
        "id": "VcxJcLUvkowe",
        "outputId": "165b91ba-5c16-4638-be70-3cb6b50ad881"
      },
      "outputs": [
        {
          "output_type": "stream",
          "name": "stdout",
          "text": [
            "{'last_user_input': 'Can you suggest about my health issues'}\n"
          ]
        }
      ],
      "source": [
        "print(conversation_memory)"
      ]
    },
    {
      "cell_type": "markdown",
      "metadata": {
        "id": "TDAkAeg10lU-"
      },
      "source": [
        "- **Creates concise cheat sheets for various topics in healthcare, summarizing key concepts and examples.**"
      ]
    },
    {
      "cell_type": "code",
      "execution_count": 9,
      "metadata": {
        "id": "PGuJ4eYnk3mn"
      },
      "outputs": [],
      "source": [
        "messages = [HumanMessage(content=\"can you make me healthcare suggestion\")]\n",
        "messages = react_graph.invoke({\"messages\": messages})"
      ]
    },
    {
      "cell_type": "code",
      "execution_count": 10,
      "metadata": {
        "colab": {
          "base_uri": "https://localhost:8080/"
        },
        "id": "0EpyY8UWk4KO",
        "outputId": "c262f2a5-2f54-46fb-bc8a-279fc510b4c8"
      },
      "outputs": [
        {
          "output_type": "stream",
          "name": "stdout",
          "text": [
            "================================\u001b[1m Human Message \u001b[0m=================================\n",
            "\n",
            "can you make me health care suggestion\n",
            "==================================\u001b[1m Ai Message \u001b[0m==================================\n",
            "\n",
            "To provide you with relevant healthcare suggestions, I need more information about your health and goals.  What specific areas are you interested in? For example, are you looking for:\n",
            "\n",
            "* **Suggestions for improving your diet and nutrition?**  (e.g.,  losing weight, increasing energy levels, managing a specific condition)\n",
            "* **Advice on increasing physical activity and exercise?** (e.g., starting a new workout routine, finding activities you enjoy)\n",
            "* **Information on managing a specific health condition?** (e.g., diabetes, heart disease, high blood pressure)\n",
            "* **Tips for stress management and mental well-being?** (e.g., relaxation techniques, mindfulness exercises)\n",
            "* **Guidance on preventative care?** (e.g., vaccinations, screenings)\n",
            "\n",
            "Please tell me more about what you'd like help with so I can give you personalized and helpful suggestions.\n"
          ]
        }
      ],
      "source": [
        "for m in messages['messages']:\n",
        "    m.pretty_print()"
      ]
    },
    {
      "cell_type": "code",
      "execution_count": 11,
      "metadata": {
        "colab": {
          "base_uri": "https://localhost:8080/"
        },
        "id": "aAHJKwtRmDSa",
        "outputId": "ff8d9e6b-d4f0-43ba-af50-9c3a3b578b39"
      },
      "outputs": [
        {
          "output_type": "stream",
          "name": "stdout",
          "text": [
            "{'last_user_input': 'can you make me health care suggestion'}\n"
          ]
        }
      ],
      "source": [
        "print(conversation_memory)"
      ]
    },
    {
      "cell_type": "markdown",
      "metadata": {
        "id": "_K1r2N3B2YIb"
      },
      "source": [
        "- **Organizes tasks into a prioritized to-do list, helping students manage their assignments and projects effectively.**"
      ]
    },
    {
      "cell_type": "code",
      "execution_count": 12,
      "metadata": {
        "id": "bWJq0zbs2A2Y"
      },
      "outputs": [],
      "source": [
        "messages = [HumanMessage(content=\"I need to finish my health care issues\")]\n",
        "messages = react_graph.invoke({\"messages\": messages})"
      ]
    },
    {
      "cell_type": "code",
      "execution_count": 13,
      "metadata": {
        "colab": {
          "base_uri": "https://localhost:8080/"
        },
        "id": "k-Jx2F9u2ArD",
        "outputId": "2d533d12-7fbf-49f5-ec3a-4c67f6490207"
      },
      "outputs": [
        {
          "output_type": "stream",
          "name": "stdout",
          "text": [
            "================================\u001b[1m Human Message \u001b[0m=================================\n",
            "\n",
            "I need to finish my health care issues\n",
            "==================================\u001b[1m Ai Message \u001b[0m==================================\n",
            "\n",
            "Please provide me with more details about your healthcare issues so I can assist you.  For example, are you trying to:\n",
            "\n",
            "* **Schedule appointments?**  Tell me what kind of appointment you need and when you're available.\n",
            "* **Understand a diagnosis?**  Tell me the diagnosis and what you'd like to know.\n",
            "* **Manage a chronic condition?** Tell me the condition and what support you need.\n",
            "* **Find resources?** Tell me what kind of resources you're looking for (e.g., support groups, financial assistance).\n",
            "* **Organize your healthcare tasks?**  List the tasks you need to complete.\n",
            "\n",
            "The more information you give me, the better I can help.\n"
          ]
        }
      ],
      "source": [
        "for m in messages['messages']:\n",
        "    m.pretty_print()"
      ]
    },
    {
      "cell_type": "code",
      "execution_count": 14,
      "metadata": {
        "colab": {
          "base_uri": "https://localhost:8080/"
        },
        "id": "oRAlly442ATK",
        "outputId": "58636df2-2ec6-4e46-b3c9-4bf996cf4177"
      },
      "outputs": [
        {
          "output_type": "stream",
          "name": "stdout",
          "text": [
            "{'last_user_input': 'I need to finish my health care issues'}\n"
          ]
        }
      ],
      "source": [
        "print(conversation_memory)"
      ]
    },
    {
      "cell_type": "code",
      "execution_count": null,
      "metadata": {
        "colab": {
          "base_uri": "https://localhost:8080/"
        },
        "id": "f0i-D1ARWhvB",
        "outputId": "8f0e6fc3-f710-4a52-8c97-b6634f0ade91"
      },
      "outputs": [
        {
          "output_type": "stream",
          "name": "stdout",
          "text": [
            "User: when else we can use panadol tablet\n",
            "Assistant: I cannot provide medical advice.  Panadol (paracetamol) is used to relieve pain and fever.  However,  **always consult a doctor or pharmacist** before using Panadol or any medication, especially if you have pre-existing health conditions or are taking other medications. They can advise you on the appropriate dosage and whether it's suitable for your specific needs.  Improper use can be harmful.\n",
            "\n",
            "User: \n",
            "Assistant: I need more context to understand what you're referring to.  Please provide the previous conversation or information you'd like me to consider.\n",
            "\n",
            "User: i am feeling pain in my hand \n",
            "Assistant: I am a large language model.  While I can process information and respond to your statement about hand pain, I cannot provide medical advice.  To determine the cause of your hand pain and receive appropriate treatment, you should consult a doctor or other qualified healthcare professional.  They can properly diagnose the issue and recommend the best course of action.\n",
            "\n",
            "User: what is 2+2\n",
            "Assistant: 2 + 2 = 4\n",
            "\n",
            "User: ok\n",
            "Assistant: OK.  Is there anything I can help you with today regarding healthcare?\n",
            "\n",
            "User: yes\n",
            "Assistant: OK. What can I help you with today?\n",
            "\n",
            "User: tell me solution beacause i am feeling headache\n",
            "Assistant: I am a large language model. While I can process and understand information related to headaches, I cannot provide medical advice.  Headaches can have various causes, ranging from stress to more serious underlying conditions.  To find the best solution for your headache, it's crucial to consult a doctor or other qualified healthcare professional. They can properly diagnose the cause and recommend appropriate treatment.  Please seek medical attention if your headache is severe, persistent, or accompanied by other symptoms.\n",
            "\n"
          ]
        }
      ],
      "source": [
        "def stream_graph_updates(user_input: str):\n",
        "    for event in react_graph.stream({\"messages\": [(\"user\", user_input)]}):\n",
        "        for value in event.values():\n",
        "            print(\"Assistant:\", value[\"messages\"][-1].content)\n",
        "\n",
        "\n",
        "while True:\n",
        "    try:\n",
        "        user_input = input(\"User: \")\n",
        "        if user_input.lower() in [\"quit\", \"exit\", \"q\"]:\n",
        "            print(\"Goodbye!\")\n",
        "            break\n",
        "\n",
        "        stream_graph_updates(user_input)\n",
        "    except:\n",
        "        # fallback if input() is not available\n",
        "        user_input = \"What do you know about LangGraph?\"\n",
        "        print(\"User: \" + user_input)\n",
        "        stream_graph_updates(user_input)\n",
        "        break"
      ]
    }
  ],
  "metadata": {
    "colab": {
      "provenance": [],
      "include_colab_link": true
    },
    "kernelspec": {
      "display_name": "Python 3",
      "name": "python3"
    },
    "language_info": {
      "name": "python"
    }
  },
  "nbformat": 4,
  "nbformat_minor": 0
}